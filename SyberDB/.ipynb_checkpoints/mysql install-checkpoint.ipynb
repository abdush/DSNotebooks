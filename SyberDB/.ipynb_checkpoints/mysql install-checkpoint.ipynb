{
 "cells": [
  {
   "cell_type": "code",
   "execution_count": null,
   "metadata": {
    "collapsed": true
   },
   "outputs": [],
   "source": [
    "import sys\n",
    "print (sys.version)\n",
    "print (sys.version_info)"
   ]
  },
  {
   "cell_type": "code",
   "execution_count": 4,
   "metadata": {
    "collapsed": false
   },
   "outputs": [
    {
     "name": "stdout",
     "output_type": "stream",
     "text": [
      "Collecting mysqlclient\n",
      "  Downloading mysqlclient-1.3.9.tar.gz (81kB)\n",
      "Building wheels for collected packages: mysqlclient\n",
      "  Running setup.py bdist_wheel for mysqlclient: started\n",
      "  Running setup.py bdist_wheel for mysqlclient: finished with status 'error'\n",
      "  Complete output from command C:\\Users\\abdu\\Anaconda3\\python.exe -u -c \"import setuptools, tokenize;__file__='C:\\\\Users\\\\abdu\\\\AppData\\\\Local\\\\Temp\\\\pip-build-tw_odnke\\\\mysqlclient\\\\setup.py';exec(compile(getattr(tokenize, 'open', open)(__file__).read().replace('\\r\\n', '\\n'), __file__, 'exec'))\" bdist_wheel -d C:\\Users\\abdu\\AppData\\Local\\Temp\\tmpwchgc4i5pip-wheel- --python-tag cp35:\n",
      "  running bdist_wheel\n",
      "  running build\n",
      "  running build_py\n",
      "  creating build\n",
      "  creating build\\lib.win-amd64-3.5\n",
      "  copying _mysql_exceptions.py -> build\\lib.win-amd64-3.5\n",
      "  creating build\\lib.win-amd64-3.5\\MySQLdb\n",
      "  copying MySQLdb\\__init__.py -> build\\lib.win-amd64-3.5\\MySQLdb\n",
      "  copying MySQLdb\\compat.py -> build\\lib.win-amd64-3.5\\MySQLdb\n",
      "  copying MySQLdb\\converters.py -> build\\lib.win-amd64-3.5\\MySQLdb\n",
      "  copying MySQLdb\\connections.py -> build\\lib.win-amd64-3.5\\MySQLdb\n",
      "  copying MySQLdb\\cursors.py -> build\\lib.win-amd64-3.5\\MySQLdb\n",
      "  copying MySQLdb\\release.py -> build\\lib.win-amd64-3.5\\MySQLdb\n",
      "  copying MySQLdb\\times.py -> build\\lib.win-amd64-3.5\\MySQLdb\n",
      "  creating build\\lib.win-amd64-3.5\\MySQLdb\\constants\n",
      "  copying MySQLdb\\constants\\__init__.py -> build\\lib.win-amd64-3.5\\MySQLdb\\constants\n",
      "  copying MySQLdb\\constants\\CR.py -> build\\lib.win-amd64-3.5\\MySQLdb\\constants\n",
      "  copying MySQLdb\\constants\\FIELD_TYPE.py -> build\\lib.win-amd64-3.5\\MySQLdb\\constants\n",
      "  copying MySQLdb\\constants\\ER.py -> build\\lib.win-amd64-3.5\\MySQLdb\\constants\n",
      "  copying MySQLdb\\constants\\FLAG.py -> build\\lib.win-amd64-3.5\\MySQLdb\\constants\n",
      "  copying MySQLdb\\constants\\REFRESH.py -> build\\lib.win-amd64-3.5\\MySQLdb\\constants\n",
      "  copying MySQLdb\\constants\\CLIENT.py -> build\\lib.win-amd64-3.5\\MySQLdb\\constants\n",
      "  running build_ext\n",
      "  building '_mysql' extension\n",
      "  error: Microsoft Visual C++ 14.0 is required. Get it with \"Microsoft Visual C++ Build Tools\": http://landinghub.visualstudio.com/visual-cpp-build-tools\n",
      "  \n",
      "  ----------------------------------------\n",
      "  Running setup.py clean for mysqlclient\n",
      "Failed to build mysqlclient\n",
      "Installing collected packages: mysqlclient\n",
      "  Running setup.py install for mysqlclient: started\n",
      "    Running setup.py install for mysqlclient: finished with status 'error'\n",
      "    Complete output from command C:\\Users\\abdu\\Anaconda3\\python.exe -u -c \"import setuptools, tokenize;__file__='C:\\\\Users\\\\abdu\\\\AppData\\\\Local\\\\Temp\\\\pip-build-tw_odnke\\\\mysqlclient\\\\setup.py';exec(compile(getattr(tokenize, 'open', open)(__file__).read().replace('\\r\\n', '\\n'), __file__, 'exec'))\" install --record C:\\Users\\abdu\\AppData\\Local\\Temp\\pip-gut_po7p-record\\install-record.txt --single-version-externally-managed --compile:\n",
      "    running install\n",
      "    running build\n",
      "    running build_py\n",
      "    creating build\n",
      "    creating build\\lib.win-amd64-3.5\n",
      "    copying _mysql_exceptions.py -> build\\lib.win-amd64-3.5\n",
      "    creating build\\lib.win-amd64-3.5\\MySQLdb\n",
      "    copying MySQLdb\\__init__.py -> build\\lib.win-amd64-3.5\\MySQLdb\n",
      "    copying MySQLdb\\compat.py -> build\\lib.win-amd64-3.5\\MySQLdb\n",
      "    copying MySQLdb\\converters.py -> build\\lib.win-amd64-3.5\\MySQLdb\n",
      "    copying MySQLdb\\connections.py -> build\\lib.win-amd64-3.5\\MySQLdb\n",
      "    copying MySQLdb\\cursors.py -> build\\lib.win-amd64-3.5\\MySQLdb\n",
      "    copying MySQLdb\\release.py -> build\\lib.win-amd64-3.5\\MySQLdb\n",
      "    copying MySQLdb\\times.py -> build\\lib.win-amd64-3.5\\MySQLdb\n",
      "    creating build\\lib.win-amd64-3.5\\MySQLdb\\constants\n",
      "    copying MySQLdb\\constants\\__init__.py -> build\\lib.win-amd64-3.5\\MySQLdb\\constants\n",
      "    copying MySQLdb\\constants\\CR.py -> build\\lib.win-amd64-3.5\\MySQLdb\\constants\n",
      "    copying MySQLdb\\constants\\FIELD_TYPE.py -> build\\lib.win-amd64-3.5\\MySQLdb\\constants\n",
      "    copying MySQLdb\\constants\\ER.py -> build\\lib.win-amd64-3.5\\MySQLdb\\constants\n",
      "    copying MySQLdb\\constants\\FLAG.py -> build\\lib.win-amd64-3.5\\MySQLdb\\constants\n",
      "    copying MySQLdb\\constants\\REFRESH.py -> build\\lib.win-amd64-3.5\\MySQLdb\\constants\n",
      "    copying MySQLdb\\constants\\CLIENT.py -> build\\lib.win-amd64-3.5\\MySQLdb\\constants\n",
      "    running build_ext\n",
      "    building '_mysql' extension\n",
      "    error: Microsoft Visual C++ 14.0 is required. Get it with \"Microsoft Visual C++ Build Tools\": http://landinghub.visualstudio.com/visual-cpp-build-tools\n",
      "    \n",
      "    ----------------------------------------\n"
     ]
    },
    {
     "name": "stderr",
     "output_type": "stream",
     "text": [
      "  Failed building wheel for mysqlclient\n",
      "Command \"C:\\Users\\abdu\\Anaconda3\\python.exe -u -c \"import setuptools, tokenize;__file__='C:\\\\Users\\\\abdu\\\\AppData\\\\Local\\\\Temp\\\\pip-build-tw_odnke\\\\mysqlclient\\\\setup.py';exec(compile(getattr(tokenize, 'open', open)(__file__).read().replace('\\r\\n', '\\n'), __file__, 'exec'))\" install --record C:\\Users\\abdu\\AppData\\Local\\Temp\\pip-gut_po7p-record\\install-record.txt --single-version-externally-managed --compile\" failed with error code 1 in C:\\Users\\abdu\\AppData\\Local\\Temp\\pip-build-tw_odnke\\mysqlclient\\\n",
      "You are using pip version 8.1.2, however version 9.0.1 is available.\n",
      "You should consider upgrading via the 'python -m pip install --upgrade pip' command.\n"
     ]
    }
   ],
   "source": [
    "!pip install mysqlclient"
   ]
  },
  {
   "cell_type": "code",
   "execution_count": 5,
   "metadata": {
    "collapsed": false
   },
   "outputs": [
    {
     "name": "stdout",
     "output_type": "stream",
     "text": [
      "Collecting PyMySQL\n",
      "  Downloading PyMySQL-0.7.9-py3-none-any.whl (78kB)\n",
      "Installing collected packages: PyMySQL\n",
      "Successfully installed PyMySQL-0.7.9\n"
     ]
    },
    {
     "name": "stderr",
     "output_type": "stream",
     "text": [
      "You are using pip version 8.1.2, however version 9.0.1 is available.\n",
      "You should consider upgrading via the 'python -m pip install --upgrade pip' command.\n"
     ]
    }
   ],
   "source": [
    "!pip install PyMySQL"
   ]
  }
 ],
 "metadata": {
  "kernelspec": {
   "display_name": "Python [default]",
   "language": "python",
   "name": "python3"
  },
  "language_info": {
   "codemirror_mode": {
    "name": "ipython",
    "version": 3
   },
   "file_extension": ".py",
   "mimetype": "text/x-python",
   "name": "python",
   "nbconvert_exporter": "python",
   "pygments_lexer": "ipython3",
   "version": "3.5.2"
  }
 },
 "nbformat": 4,
 "nbformat_minor": 1
}
